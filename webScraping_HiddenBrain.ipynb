{
 "cells": [
  {
   "cell_type": "markdown",
   "metadata": {},
   "source": [
    "# Web Scraping \n",
    "\n",
    "https://www.npr.org/series/423302056/hidden-brain/archive\n",
    "\n",
    "Using https://regex101.com/"
   ]
  },
  {
   "cell_type": "markdown",
   "metadata": {},
   "source": [
    "## Libraries"
   ]
  },
  {
   "cell_type": "code",
   "execution_count": 1,
   "metadata": {},
   "outputs": [],
   "source": [
    "import requests\n",
    "import re\n",
    "# import numpy as np\n",
    "# import pandas as pd"
   ]
  },
  {
   "cell_type": "markdown",
   "metadata": {},
   "source": [
    "## Helper function"
   ]
  },
  {
   "cell_type": "code",
   "execution_count": 2,
   "metadata": {},
   "outputs": [],
   "source": [
    "def getMatchesByRegex(regex, info):\n",
    "    resultList = []\n",
    "    matches = re.finditer(regex, info, re.MULTILINE)\n",
    "    print(matches)\n",
    "    for matchNum, match in enumerate(matches, start=1):\n",
    "        resultList.append(str(match.group()))\n",
    "        \n",
    "    return resultList"
   ]
  },
  {
   "cell_type": "markdown",
   "metadata": {},
   "source": [
    "## Request"
   ]
  },
  {
   "cell_type": "code",
   "execution_count": 3,
   "metadata": {},
   "outputs": [],
   "source": [
    "baseUrl = 'https://www.npr.org/series/423302056/hidden-brain/archive'"
   ]
  },
  {
   "cell_type": "code",
   "execution_count": 4,
   "metadata": {},
   "outputs": [],
   "source": [
    "payload = {}\n",
    "headers = { \"Content-Type\": \"text/html\" }\n",
    "\n",
    "response = requests.request(\"GET\", baseUrl, headers=headers, data = payload)"
   ]
  },
  {
   "cell_type": "markdown",
   "metadata": {},
   "source": [
    "## Movie names"
   ]
  },
  {
   "cell_type": "code",
   "execution_count": 5,
   "metadata": {},
   "outputs": [
    {
     "name": "stdout",
     "output_type": "stream",
     "text": [
      "<callable_iterator object at 0x7f513b370ad0>\n",
      "There are 15 movies in this list\n"
     ]
    }
   ],
   "source": [
    "regex = r\"(?<=\\<h2\\ class\\=\\\"title\\\"\\>\\<a\\ href\\=)(.*)(?=\\<\\/a\\>\\<\\/h2\\>)\"\n",
    "rawMovieList = getMatchesByRegex(regex, str(response.text))\n",
    "\n",
    "print('There are {0} movies in this list'.format(len(rawMovieList)))"
   ]
  },
  {
   "cell_type": "code",
   "execution_count": 6,
   "metadata": {},
   "outputs": [
    {
     "data": {
      "text/plain": [
       "'\"https://www.npr.org/2020/08/21/904715184/you-2-0-fresh-starts\"  data-metrics=\\'{\"action\":\"Click Story Title\",\"category\":\"Story List\"}\\' >You 2.0: Fresh Starts'"
      ]
     },
     "execution_count": 6,
     "metadata": {},
     "output_type": "execute_result"
    }
   ],
   "source": [
    "rawMovieList[6]"
   ]
  },
  {
   "cell_type": "code",
   "execution_count": 7,
   "metadata": {},
   "outputs": [],
   "source": [
    "# str('You 2.0: Empathy Gym').replace('You 2.0: ', '').strip()"
   ]
  },
  {
   "cell_type": "code",
   "execution_count": 8,
   "metadata": {},
   "outputs": [],
   "source": [
    "# regex = r\"(?<=\\>)(.*)(?=$)\"\n",
    "\n",
    "# movieNamesList = []\n",
    "# for rawMovieName in rawMovieList:\n",
    "#     movie = getMatchesByRegex(regex, str(rawMovieName).replace('You 2.0: ', '').strip())\n",
    "#     movieNamesList.append(movie[0])"
   ]
  },
  {
   "cell_type": "markdown",
   "metadata": {},
   "source": [
    "### List comprehensions and Lambda functions\n",
    "\n",
    "https://www.programiz.com/python-programming/list-comprehension"
   ]
  },
  {
   "cell_type": "code",
   "execution_count": 9,
   "metadata": {},
   "outputs": [
    {
     "name": "stdout",
     "output_type": "stream",
     "text": [
      "<callable_iterator object at 0x7f5138371450>\n",
      "<callable_iterator object at 0x7f51380e2450>\n",
      "<callable_iterator object at 0x7f5138371450>\n",
      "<callable_iterator object at 0x7f51380e2450>\n",
      "<callable_iterator object at 0x7f5138371450>\n",
      "<callable_iterator object at 0x7f51380e2450>\n",
      "<callable_iterator object at 0x7f5138371450>\n",
      "<callable_iterator object at 0x7f51380e2450>\n",
      "<callable_iterator object at 0x7f5138371450>\n",
      "<callable_iterator object at 0x7f51380e2450>\n",
      "<callable_iterator object at 0x7f5138371450>\n",
      "<callable_iterator object at 0x7f51380e2450>\n",
      "<callable_iterator object at 0x7f5138371450>\n",
      "<callable_iterator object at 0x7f51380e2450>\n",
      "<callable_iterator object at 0x7f5138371450>\n"
     ]
    }
   ],
   "source": [
    "regex = r\"(?<=\\>)(.*)(?=$)\"\n",
    "\n",
    "movieNamesList = list(map(lambda x: getMatchesByRegex(\n",
    "                            regex, \n",
    "                            str(x).replace('You 2.0: ', '').strip()\n",
    "                        )[0],\n",
    "                    rawMovieList))"
   ]
  },
  {
   "cell_type": "code",
   "execution_count": 10,
   "metadata": {},
   "outputs": [
    {
     "data": {
      "text/plain": [
       "['Laughter: The Best Medicine',\n",
       " 'The Halo Effect',\n",
       " 'Why Nobody Feels Rich',\n",
       " 'The Fee-for-Service Monster',\n",
       " 'Empathy Gym',\n",
       " 'WOOP, WOOP!',\n",
       " 'Fresh Starts',\n",
       " 'Loss And Renewal',\n",
       " \"The Mind's Eye\",\n",
       " 'Our Pursuit of Happiness',\n",
       " 'Edge Effect',\n",
       " 'The Untold Story Of Lyndie B. Hawkins',\n",
       " 'Romeo &amp; Juliet In Rwanda',\n",
       " 'The Night That Lasted A Lifetime',\n",
       " 'The Founding Contradiction']"
      ]
     },
     "execution_count": 10,
     "metadata": {},
     "output_type": "execute_result"
    }
   ],
   "source": [
    "movieNamesList"
   ]
  },
  {
   "cell_type": "markdown",
   "metadata": {},
   "source": [
    "## Movie release date"
   ]
  },
  {
   "cell_type": "code",
   "execution_count": 11,
   "metadata": {},
   "outputs": [
    {
     "name": "stdout",
     "output_type": "stream",
     "text": [
      "<callable_iterator object at 0x7f51380e2450>\n",
      "There are 15 movies in this list\n"
     ]
    }
   ],
   "source": [
    "regex = r\"(?<=\\<time\\ datetime\\=)(.*)(?=\\>\\<span\\ class\\=)\"\n",
    "movieReleaseDateList = getMatchesByRegex(regex, str(response.text).replace('\"', ''))\n",
    "\n",
    "print('There are {0} movies in this list'.format(len(movieReleaseDateList)))"
   ]
  },
  {
   "cell_type": "code",
   "execution_count": 12,
   "metadata": {},
   "outputs": [
    {
     "data": {
      "text/plain": [
       "['2020-09-28',\n",
       " '2020-09-21',\n",
       " '2020-09-14',\n",
       " '2020-09-07',\n",
       " '2020-08-31',\n",
       " '2020-08-24',\n",
       " '2020-08-21',\n",
       " '2020-08-17',\n",
       " '2020-08-10',\n",
       " '2020-08-03',\n",
       " '2020-07-27',\n",
       " '2020-07-20',\n",
       " '2020-07-13',\n",
       " '2020-07-06',\n",
       " '2020-06-29']"
      ]
     },
     "execution_count": 12,
     "metadata": {},
     "output_type": "execute_result"
    }
   ],
   "source": [
    "movieReleaseDateList"
   ]
  },
  {
   "cell_type": "markdown",
   "metadata": {},
   "source": [
    "## Putting it all together"
   ]
  },
  {
   "cell_type": "code",
   "execution_count": 13,
   "metadata": {},
   "outputs": [],
   "source": [
    "movieList = list(zip(movieNamesList, movieReleaseDateList))"
   ]
  },
  {
   "cell_type": "code",
   "execution_count": 14,
   "metadata": {},
   "outputs": [
    {
     "data": {
      "text/plain": [
       "[('Laughter: The Best Medicine', '2020-09-28'),\n",
       " ('The Halo Effect', '2020-09-21'),\n",
       " ('Why Nobody Feels Rich', '2020-09-14'),\n",
       " ('The Fee-for-Service Monster', '2020-09-07'),\n",
       " ('Empathy Gym', '2020-08-31'),\n",
       " ('WOOP, WOOP!', '2020-08-24'),\n",
       " ('Fresh Starts', '2020-08-21'),\n",
       " ('Loss And Renewal', '2020-08-17'),\n",
       " (\"The Mind's Eye\", '2020-08-10'),\n",
       " ('Our Pursuit of Happiness', '2020-08-03'),\n",
       " ('Edge Effect', '2020-07-27'),\n",
       " ('The Untold Story Of Lyndie B. Hawkins', '2020-07-20'),\n",
       " ('Romeo &amp; Juliet In Rwanda', '2020-07-13'),\n",
       " ('The Night That Lasted A Lifetime', '2020-07-06'),\n",
       " ('The Founding Contradiction', '2020-06-29')]"
      ]
     },
     "execution_count": 14,
     "metadata": {},
     "output_type": "execute_result"
    }
   ],
   "source": [
    "movieList"
   ]
  },
  {
   "cell_type": "code",
   "execution_count": null,
   "metadata": {},
   "outputs": [],
   "source": []
  }
 ],
 "metadata": {
  "kernelspec": {
   "display_name": "Python 3",
   "language": "python",
   "name": "python3"
  },
  "language_info": {
   "codemirror_mode": {
    "name": "ipython",
    "version": 3
   },
   "file_extension": ".py",
   "mimetype": "text/x-python",
   "name": "python",
   "nbconvert_exporter": "python",
   "pygments_lexer": "ipython3",
   "version": "3.7.4"
  }
 },
 "nbformat": 4,
 "nbformat_minor": 2
}
